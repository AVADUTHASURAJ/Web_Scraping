{
 "cells": [
  {
   "cell_type": "markdown",
   "id": "0007622f",
   "metadata": {},
   "source": [
    "# Import Libraries"
   ]
  },
  {
   "cell_type": "code",
   "execution_count": 18,
   "id": "548f1e3f",
   "metadata": {},
   "outputs": [],
   "source": [
    "import csv\n",
    "from bs4 import BeautifulSoup\n",
    "import requests"
   ]
  },
  {
   "cell_type": "markdown",
   "id": "0e92e833",
   "metadata": {},
   "source": [
    "# Base URL"
   ]
  },
  {
   "cell_type": "code",
   "execution_count": 19,
   "id": "7977865b",
   "metadata": {},
   "outputs": [],
   "source": [
    "baseurl = 'https://www.noon.com/'"
   ]
  },
  {
   "cell_type": "markdown",
   "id": "b2cb8842",
   "metadata": {},
   "source": [
    "# Opening a CSV file for storing data"
   ]
  },
  {
   "cell_type": "code",
   "execution_count": 20,
   "id": "82f4314f",
   "metadata": {},
   "outputs": [
    {
     "data": {
      "text/plain": [
       "108"
      ]
     },
     "execution_count": 20,
     "metadata": {},
     "output_type": "execute_result"
    }
   ],
   "source": [
    "csvfile = open('data_.csv','w',encoding='utf-8',newline='')\n",
    "csv_writer = csv.writer(csvfile)\n",
    "csv_writer.writerow(['Date','Model Number','Brand','Name','Currency','Store Name','Partner Rating','Positive Rating','price','Sale price','FBN','Links'])"
   ]
  },
  {
   "cell_type": "markdown",
   "id": "29ef3564",
   "metadata": {},
   "source": [
    "# Storing every link of the product in list"
   ]
  },
  {
   "cell_type": "code",
   "execution_count": 21,
   "id": "b7629532",
   "metadata": {},
   "outputs": [
    {
     "name": "stdout",
     "output_type": "stream",
     "text": [
      "3200\n"
     ]
    }
   ],
   "source": [
    "productLinks = []\n",
    "for x in range(1,65):\n",
    "    URL =f'https://www.noon.com/egypt-en/sports-and-outdoors/exercise-and-fitness/yoga-16328/?limit=50&page={x}&sort%5Bby%5D=popularity&sort%5Bdir%5D=desc'\n",
    "    r = requests.get(URL)\n",
    "    soup = BeautifulSoup(r.content,'lxml')\n",
    "    productList = soup.find_all('span',class_='sc-5e739f1b-0 gEERDr wrapper productContainer')\n",
    "    for item in productList:\n",
    "        for link in item.find_all('a',href=True):\n",
    "            productLinks.append(baseurl+link['href'])\n",
    "print(len(productLinks))"
   ]
  },
  {
   "cell_type": "markdown",
   "id": "3499f7eb",
   "metadata": {},
   "source": [
    "# Extracting every product details to csv"
   ]
  },
  {
   "cell_type": "code",
   "execution_count": 22,
   "id": "b072dc4e",
   "metadata": {},
   "outputs": [],
   "source": [
    "for link in productLinks:\n",
    "    r = requests.get(link)\n",
    "    soup = BeautifulSoup(r.content,'lxml')\n",
    "\n",
    "    Date = '18-10-2022'\n",
    "    try:\n",
    "        brand = soup.find('div',class_='sc-c44e3e2d-11 jbKJDi').text.strip()\n",
    "    except:\n",
    "        brand = 'null'\n",
    "    name = soup.find('h1',class_='sc-c44e3e2d-12 kODUYj').text.strip()\n",
    "    currency = (soup.find('div',class_=\"priceNow\").text.strip())[0:3]\n",
    "    price = (soup.find('div',class_=\"priceNow\").text.strip())[4:10]\n",
    "    try:\n",
    "        priceWas = (soup.find('div',class_='priceWas').text.strip())[4:10]\n",
    "    except:\n",
    "        priceWas = price\n",
    "    storeName = soup.find('span',class_='allOffers').text.strip()\n",
    "    try:\n",
    "        try:\n",
    "            p_rating = soup.find('div',class_='sc-d711b2ac-4 bQMRwI').text.strip()\n",
    "        except:\n",
    "            p_rating = soup.find('div',class_='sc-d711b2ac-4 bQMNCl').text.strip()\n",
    "    except:\n",
    "        try:\n",
    "            p_rating = soup.find('div',class_='sc-d711b2ac-4 bkSvgF').text.strip()\n",
    "        except:\n",
    "            p_rating = \"null\"\n",
    "    try:\n",
    "        pos_ratings = (soup.find('div',class_='sc-d711b2ac-5 hKZAQq').text.strip())[0:3]\n",
    "    except:\n",
    "        pos_ratings = 'null'\n",
    "    try:\n",
    "        m_num = (soup.find('div',class_='modelNumber').text.strip())[15:31]\n",
    "    except:\n",
    "        m_num = 'null'\n",
    "    try:\n",
    "        FBN = soup.find('img',class_='sc-b51db3f-1 bGljQY')['alt']\n",
    "    except:\n",
    "        FBN = 'null'\n",
    "    csv_line = [Date,m_num,brand,name,currency,storeName,p_rating,pos_ratings,priceWas,price,FBN,link]\n",
    "    csv_writer.writerow(csv_line)\n",
    "\n",
    "csvfile.close()"
   ]
  },
  {
   "cell_type": "markdown",
   "id": "77ebc388",
   "metadata": {},
   "source": [
    "# Analysing the extracted Data"
   ]
  },
  {
   "cell_type": "code",
   "execution_count": 23,
   "id": "43303c91",
   "metadata": {},
   "outputs": [],
   "source": [
    "csvfile = open('data_.csv','r')\n",
    "csv_reader = csv.reader(csvfile)"
   ]
  },
  {
   "cell_type": "markdown",
   "id": "953c1374",
   "metadata": {},
   "source": [
    "# For Costly and Cheapest products in Data"
   ]
  },
  {
   "cell_type": "code",
   "execution_count": 24,
   "id": "89ae0607",
   "metadata": {},
   "outputs": [],
   "source": [
    "costly = []\n",
    "cheapest = []\n",
    "\n",
    "s = 0\n",
    "l = 10000\n",
    "for line in csv_reader:\n",
    "    if line[9]!='Sale price':\n",
    "        try:\n",
    "            value = float(line[9])\n",
    "            if value > s:\n",
    "                s = value\n",
    "            elif value < l:\n",
    "                l = value\n",
    "        except:\n",
    "            pass\n",
    "        if s == value:\n",
    "            costly.append(line[3])\n",
    "        elif l == value:\n",
    "            cheapest.append(line[3])"
   ]
  },
  {
   "cell_type": "markdown",
   "id": "a3d6149d",
   "metadata": {},
   "source": [
    "# Costly Products"
   ]
  },
  {
   "cell_type": "code",
   "execution_count": 25,
   "id": "804f687c",
   "metadata": {},
   "outputs": [
    {
     "name": "stdout",
     "output_type": "stream",
     "text": [
      "{'Yoga Mat 17mm'}\n"
     ]
    }
   ],
   "source": [
    "print(set(costly))"
   ]
  },
  {
   "cell_type": "markdown",
   "id": "98941027",
   "metadata": {},
   "source": [
    "# Cheapest Products"
   ]
  },
  {
   "cell_type": "code",
   "execution_count": 26,
   "id": "cb61302c",
   "metadata": {},
   "outputs": [
    {
     "name": "stdout",
     "output_type": "stream",
     "text": [
      "{'Yoga Ball 2021 65cm', 'Exercise Mat', '18D-141 Yoga Roller Pink 30cm', 'Yoga Ball 2021 55cm'}\n"
     ]
    }
   ],
   "source": [
    "print(set(cheapest))"
   ]
  },
  {
   "cell_type": "markdown",
   "id": "46a11294",
   "metadata": {},
   "source": [
    "# Finding no.of products from each Brand and Seller"
   ]
  },
  {
   "cell_type": "code",
   "execution_count": 27,
   "id": "30aba118",
   "metadata": {},
   "outputs": [],
   "source": [
    "import matplotlib.pyplot as plt "
   ]
  },
  {
   "cell_type": "code",
   "execution_count": 28,
   "id": "630f4223",
   "metadata": {},
   "outputs": [],
   "source": [
    "csvfile = open('data_.csv','r')\n",
    "csv_reader = csv.reader(csvfile)"
   ]
  },
  {
   "cell_type": "code",
   "execution_count": 29,
   "id": "e7b54d5b",
   "metadata": {},
   "outputs": [],
   "source": [
    "total_products = []\n",
    "total_sellers = []\n",
    "for line in csv_reader:\n",
    "    total_products.append(line[2])\n",
    "    total_sellers.append(line[5])"
   ]
  },
  {
   "cell_type": "code",
   "execution_count": 30,
   "id": "f01a1d57",
   "metadata": {},
   "outputs": [],
   "source": [
    "count = [[total_products.count(item),item] for item in set(total_products)]\n",
    "count_2 = [[total_sellers.count(item),item] for item in set(total_sellers)]"
   ]
  },
  {
   "cell_type": "markdown",
   "id": "47f434d2",
   "metadata": {},
   "source": [
    "# Number of Products from Each brand"
   ]
  },
  {
   "cell_type": "code",
   "execution_count": 31,
   "id": "70f2388a",
   "metadata": {},
   "outputs": [
    {
     "data": {
      "image/png": "[encoded data removed]",
      "text/plain": [
       "<Figure size 640x480 with 1 Axes>"
      ]
     },
     "metadata": {},
     "output_type": "display_data"
    }
   ],
   "source": [
    "brand = []\n",
    "c = []\n",
    "for item in count:\n",
    "    if item[1]!='Brand':\n",
    "        brand.append(item[1])\n",
    "        c.append(item[0])\n",
    "color = ['orange','skyblue','lightgreen']\n",
    "plt.bar(brand,c,color=color)\n",
    "plt.xticks(rotation='vertical',size=8)\n",
    "plt.xlabel('brand')\n",
    "plt.ylabel('No.of products')\n",
    "plt.title('Number of Products from Each brand')\n",
    "plt.show()"
   ]
  },
  {
   "cell_type": "markdown",
   "id": "dbead1cf",
   "metadata": {},
   "source": [
    "# Number of Products by Each seller"
   ]
  },
  {
   "cell_type": "code",
   "execution_count": 32,
   "id": "70e329e2",
   "metadata": {},
   "outputs": [
    {
     "data": {
      "image/png": "[encoded data removed]",
      "text/plain": [
       "<Figure size 640x480 with 1 Axes>"
      ]
     },
     "metadata": {},
     "output_type": "display_data"
    }
   ],
   "source": [
    "seller = []\n",
    "t = []\n",
    "for item in count_2:\n",
    "    if item[1]!='Store Name':\n",
    "        seller.append(item[1])\n",
    "        t.append(item[0])\n",
    "\n",
    "plt.bar(seller,t,color=color)\n",
    "plt.xticks(rotation='vertical',size=8)\n",
    "plt.xlabel('seller')\n",
    "plt.ylabel('No.of products')\n",
    "plt.title('Number of Products by Each seller')\n",
    "plt.show()"
   ]
  },
  {
   "cell_type": "markdown",
   "id": "725a5b62",
   "metadata": {},
   "source": [
    "# THANK YOU"
   ]
  }
 ],
 "metadata": {
  "kernelspec": {
   "display_name": "Python 3 (ipykernel)",
   "language": "python",
   "name": "python3"
  },
  "language_info": {
   "codemirror_mode": {
    "name": "ipython",
    "version": 3
   },
   "file_extension": ".py",
   "mimetype": "text/x-python",
   "name": "python",
   "nbconvert_exporter": "python",
   "pygments_lexer": "ipython3",
   "version": "3.10.6"
  }
 },
 "nbformat": 4,
 "nbformat_minor": 5
}
